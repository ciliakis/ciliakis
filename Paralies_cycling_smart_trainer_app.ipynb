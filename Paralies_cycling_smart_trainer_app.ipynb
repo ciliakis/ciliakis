{
 "cells": [
  {
   "cell_type": "code",
   "execution_count": 1,
   "metadata": {},
   "outputs": [
    {
     "name": "stderr",
     "output_type": "stream",
     "text": [
      "C:\\Users\\iliak\\AppData\\Local\\Temp\\ipykernel_27040\\304410608.py:20: SettingWithCopyWarning: \n",
      "A value is trying to be set on a copy of a slice from a DataFrame\n",
      "\n",
      "See the caveats in the documentation: https://pandas.pydata.org/pandas-docs/stable/user_guide/indexing.html#returning-a-view-versus-a-copy\n",
      "  data['power_scale'][i]=1\n",
      "C:\\Users\\iliak\\AppData\\Local\\Temp\\ipykernel_27040\\304410608.py:16: SettingWithCopyWarning: \n",
      "A value is trying to be set on a copy of a slice from a DataFrame\n",
      "\n",
      "See the caveats in the documentation: https://pandas.pydata.org/pandas-docs/stable/user_guide/indexing.html#returning-a-view-versus-a-copy\n",
      "  data['power_scale'][i]=0\n"
     ]
    },
    {
     "data": {
      "text/plain": [
       "(0.8237484157160964, 0.8246989860583016)"
      ]
     },
     "execution_count": 1,
     "metadata": {},
     "output_type": "execute_result"
    }
   ],
   "source": [
    "# Step 1: Data loading and seperating features from target\n",
    "\n",
    "import numpy as np\n",
    "import pandas as pd\n",
    "import matplotlib.pyplot as plt\n",
    "data = pd.read_csv('c:/data/bike_rides.csv', sep = \",\")\n",
    "data['power_scale']=data['power']\n",
    "\n",
    "t = 170\n",
    "\n",
    "\n",
    "for i in range(len(data['power'])):\n",
    "    if data['power'][i]>=t:\n",
    "\n",
    "\n",
    "          data['power_scale'][i]=0\n",
    "    \n",
    "    elif data['power'][i]<t:\n",
    "\n",
    "         data['power_scale'][i]=1\n",
    "\n",
    "    \n",
    "features = data[['heart-rate', 'cadence', 'speed', 'acceleration', 'slope']]\n",
    "\n",
    "target=data['power_scale']\n",
    "\n",
    "\n",
    "# Step 2: data splitting in train and test datasets\n",
    "\n",
    "from sklearn.model_selection import train_test_split \n",
    "(X_train, X_test, y_train, y_test) = train_test_split(features, target, test_size=0.33,\n",
    " random_state=None)\n",
    "\n",
    "# Step 3 feature selection\n",
    "\n",
    "from sklearn.feature_selection import RFE\n",
    "from sklearn.ensemble import ExtraTreesClassifier\n",
    "estimator = ExtraTreesClassifier()\n",
    "selector=RFE(estimator, n_features_to_select=4, step=1)\n",
    "selector = selector.fit(X_train, y_train)\n",
    "selector.support_ \n",
    "selector.ranking_\n",
    "selector.score(X_test, y_test)\n",
    "features_selected = selector.get_feature_names_out()\n",
    "\n",
    "\n",
    "\n",
    "\n",
    "# Step 4: Model Training & Testing\n",
    "\n",
    "\n",
    "from sklearn.ensemble import ExtraTreesClassifier\n",
    "from sklearn.metrics import classification_report, confusion_matrix\n",
    "\n",
    "X_train_selected=selector.transform(X_train)\n",
    "X_test_selected=selector.transform(X_test)\n",
    "\n",
    "estimator = ExtraTreesClassifier()\n",
    "model = estimator.fit(X_train_selected, y_train)\n",
    "\n",
    "preds = model.predict(X_test_selected)\n",
    "\n",
    "\n",
    "selector.score(X_test, y_test), model.score(X_test_selected, y_test)\n",
    "\n",
    "\n",
    "\n",
    "\n"
   ]
  },
  {
   "cell_type": "code",
   "execution_count": 2,
   "metadata": {},
   "outputs": [
    {
     "data": {
      "text/plain": [
       "array([[0.83241506, 0.16758494],\n",
       "       [0.19248466, 0.80751534]])"
      ]
     },
     "execution_count": 2,
     "metadata": {},
     "output_type": "execute_result"
    }
   ],
   "source": [
    "from sklearn.metrics import confusion_matrix\n",
    "confusion_matrix(preds, y_test, normalize = 'true')"
   ]
  },
  {
   "cell_type": "code",
   "execution_count": 3,
   "metadata": {},
   "outputs": [
    {
     "data": {
      "text/plain": [
       "array([[0.62, 0.38],\n",
       "       [0.96, 0.04],\n",
       "       [1.  , 0.  ],\n",
       "       ...,\n",
       "       [0.17, 0.83],\n",
       "       [0.89, 0.11],\n",
       "       [0.99, 0.01]])"
      ]
     },
     "execution_count": 3,
     "metadata": {},
     "output_type": "execute_result"
    }
   ],
   "source": [
    "model.predict_proba(X_test_selected)"
   ]
  },
  {
   "cell_type": "code",
   "execution_count": 4,
   "metadata": {},
   "outputs": [
    {
     "data": {
      "text/plain": [
       "array([0., 0., 0., ..., 1., 0., 0.])"
      ]
     },
     "execution_count": 4,
     "metadata": {},
     "output_type": "execute_result"
    }
   ],
   "source": [
    "model.predict(X_test_selected)"
   ]
  },
  {
   "cell_type": "code",
   "execution_count": 5,
   "metadata": {},
   "outputs": [
    {
     "data": {
      "text/plain": [
       "array(['heart-rate', 'cadence', 'speed', 'acceleration'], dtype=object)"
      ]
     },
     "execution_count": 5,
     "metadata": {},
     "output_type": "execute_result"
    }
   ],
   "source": [
    "features_selected = selector.get_feature_names_out()\n",
    "features_selected"
   ]
  },
  {
   "cell_type": "code",
   "execution_count": 6,
   "metadata": {},
   "outputs": [
    {
     "data": {
      "text/plain": [
       "array([1, 1, 1, 1, 2])"
      ]
     },
     "execution_count": 6,
     "metadata": {},
     "output_type": "execute_result"
    }
   ],
   "source": [
    "selector.ranking_"
   ]
  },
  {
   "cell_type": "code",
   "execution_count": 7,
   "metadata": {},
   "outputs": [
    {
     "data": {
      "text/plain": [
       "array([0.22824162, 0.33941484, 0.22293706, 0.20940647])"
      ]
     },
     "execution_count": 7,
     "metadata": {},
     "output_type": "execute_result"
    }
   ],
   "source": [
    "model.feature_importances_"
   ]
  },
  {
   "cell_type": "code",
   "execution_count": 113,
   "metadata": {},
   "outputs": [],
   "source": [
    "heart_rate_test = 180\n",
    "cadence_test=90\n",
    "speed_test=30\n",
    "acceleration_test=0.02\n",
    "slope_test=10\n",
    "\n",
    "test_array=np.array([[heart_rate_test,  speed_test, acceleration_test, slope_test]])\n",
    "\n"
   ]
  },
  {
   "cell_type": "code",
   "execution_count": 114,
   "metadata": {},
   "outputs": [
    {
     "data": {
      "text/html": [
       "<div>\n",
       "<style scoped>\n",
       "    .dataframe tbody tr th:only-of-type {\n",
       "        vertical-align: middle;\n",
       "    }\n",
       "\n",
       "    .dataframe tbody tr th {\n",
       "        vertical-align: top;\n",
       "    }\n",
       "\n",
       "    .dataframe thead th {\n",
       "        text-align: right;\n",
       "    }\n",
       "</style>\n",
       "<table border=\"1\" class=\"dataframe\">\n",
       "  <thead>\n",
       "    <tr style=\"text-align: right;\">\n",
       "      <th></th>\n",
       "      <th>heart-rate</th>\n",
       "      <th>cadence</th>\n",
       "      <th>speed</th>\n",
       "      <th>acceleration</th>\n",
       "    </tr>\n",
       "  </thead>\n",
       "  <tbody>\n",
       "    <tr>\n",
       "      <th>0</th>\n",
       "      <td>180</td>\n",
       "      <td>90</td>\n",
       "      <td>30</td>\n",
       "      <td>0.02</td>\n",
       "    </tr>\n",
       "  </tbody>\n",
       "</table>\n",
       "</div>"
      ],
      "text/plain": [
       "   heart-rate  cadence  speed  acceleration\n",
       "0         180       90     30          0.02"
      ]
     },
     "execution_count": 114,
     "metadata": {},
     "output_type": "execute_result"
    }
   ],
   "source": [
    "d={'heart-rate': pd.Series([heart_rate_test]), 'cadence': pd.Series([cadence_test])\n",
    ",'speed':pd.Series([speed_test]),'acceleration':pd.Series([acceleration_test]), 'slope':pd.Series([slope_test])}\n",
    "df=pd.DataFrame(d)[features_selected]\n",
    "df"
   ]
  },
  {
   "cell_type": "code",
   "execution_count": 115,
   "metadata": {},
   "outputs": [
    {
     "data": {
      "text/plain": [
       "array([0.])"
      ]
     },
     "execution_count": 115,
     "metadata": {},
     "output_type": "execute_result"
    }
   ],
   "source": [
    "model.predict(np.array(df))"
   ]
  },
  {
   "cell_type": "code",
   "execution_count": 116,
   "metadata": {},
   "outputs": [
    {
     "data": {
      "text/plain": [
       "array([[0.76, 0.24]])"
      ]
     },
     "execution_count": 116,
     "metadata": {},
     "output_type": "execute_result"
    }
   ],
   "source": [
    "model.predict_proba(np.array(df))"
   ]
  },
  {
   "cell_type": "code",
   "execution_count": 117,
   "metadata": {},
   "outputs": [
    {
     "data": {
      "text/html": [
       "<div>\n",
       "<style scoped>\n",
       "    .dataframe tbody tr th:only-of-type {\n",
       "        vertical-align: middle;\n",
       "    }\n",
       "\n",
       "    .dataframe tbody tr th {\n",
       "        vertical-align: top;\n",
       "    }\n",
       "\n",
       "    .dataframe thead th {\n",
       "        text-align: right;\n",
       "    }\n",
       "</style>\n",
       "<table border=\"1\" class=\"dataframe\">\n",
       "  <thead>\n",
       "    <tr style=\"text-align: right;\">\n",
       "      <th></th>\n",
       "      <th>power</th>\n",
       "      <th>heart-rate</th>\n",
       "      <th>cadence</th>\n",
       "      <th>speed</th>\n",
       "      <th>acceleration</th>\n",
       "      <th>slope</th>\n",
       "      <th>power_scale</th>\n",
       "    </tr>\n",
       "  </thead>\n",
       "  <tbody>\n",
       "    <tr>\n",
       "      <th>count</th>\n",
       "      <td>38254.000000</td>\n",
       "      <td>38254.000000</td>\n",
       "      <td>38254.000000</td>\n",
       "      <td>38254.000000</td>\n",
       "      <td>38254.000000</td>\n",
       "      <td>38254.000000</td>\n",
       "      <td>38254.000000</td>\n",
       "    </tr>\n",
       "    <tr>\n",
       "      <th>mean</th>\n",
       "      <td>192.847781</td>\n",
       "      <td>141.385616</td>\n",
       "      <td>72.896876</td>\n",
       "      <td>8.203325</td>\n",
       "      <td>-0.002056</td>\n",
       "      <td>0.005646</td>\n",
       "      <td>0.360956</td>\n",
       "    </tr>\n",
       "    <tr>\n",
       "      <th>std</th>\n",
       "      <td>116.760026</td>\n",
       "      <td>16.562215</td>\n",
       "      <td>25.235907</td>\n",
       "      <td>2.603563</td>\n",
       "      <td>0.225916</td>\n",
       "      <td>0.108174</td>\n",
       "      <td>0.480284</td>\n",
       "    </tr>\n",
       "    <tr>\n",
       "      <th>min</th>\n",
       "      <td>0.000000</td>\n",
       "      <td>66.000000</td>\n",
       "      <td>0.000000</td>\n",
       "      <td>0.000000</td>\n",
       "      <td>-2.384600</td>\n",
       "      <td>-7.731092</td>\n",
       "      <td>0.000000</td>\n",
       "    </tr>\n",
       "    <tr>\n",
       "      <th>25%</th>\n",
       "      <td>134.000000</td>\n",
       "      <td>131.000000</td>\n",
       "      <td>73.000000</td>\n",
       "      <td>6.579000</td>\n",
       "      <td>-0.074400</td>\n",
       "      <td>0.000000</td>\n",
       "      <td>0.000000</td>\n",
       "    </tr>\n",
       "    <tr>\n",
       "      <th>50%</th>\n",
       "      <td>199.000000</td>\n",
       "      <td>142.000000</td>\n",
       "      <td>82.000000</td>\n",
       "      <td>8.297000</td>\n",
       "      <td>0.005800</td>\n",
       "      <td>0.000000</td>\n",
       "      <td>0.000000</td>\n",
       "    </tr>\n",
       "    <tr>\n",
       "      <th>75%</th>\n",
       "      <td>248.000000</td>\n",
       "      <td>153.000000</td>\n",
       "      <td>87.000000</td>\n",
       "      <td>9.874000</td>\n",
       "      <td>0.083800</td>\n",
       "      <td>0.010134</td>\n",
       "      <td>1.000000</td>\n",
       "    </tr>\n",
       "    <tr>\n",
       "      <th>max</th>\n",
       "      <td>901.000000</td>\n",
       "      <td>187.000000</td>\n",
       "      <td>107.000000</td>\n",
       "      <td>18.604000</td>\n",
       "      <td>1.311400</td>\n",
       "      <td>14.857143</td>\n",
       "      <td>1.000000</td>\n",
       "    </tr>\n",
       "  </tbody>\n",
       "</table>\n",
       "</div>"
      ],
      "text/plain": [
       "              power    heart-rate       cadence         speed  acceleration  \\\n",
       "count  38254.000000  38254.000000  38254.000000  38254.000000  38254.000000   \n",
       "mean     192.847781    141.385616     72.896876      8.203325     -0.002056   \n",
       "std      116.760026     16.562215     25.235907      2.603563      0.225916   \n",
       "min        0.000000     66.000000      0.000000      0.000000     -2.384600   \n",
       "25%      134.000000    131.000000     73.000000      6.579000     -0.074400   \n",
       "50%      199.000000    142.000000     82.000000      8.297000      0.005800   \n",
       "75%      248.000000    153.000000     87.000000      9.874000      0.083800   \n",
       "max      901.000000    187.000000    107.000000     18.604000      1.311400   \n",
       "\n",
       "              slope   power_scale  \n",
       "count  38254.000000  38254.000000  \n",
       "mean       0.005646      0.360956  \n",
       "std        0.108174      0.480284  \n",
       "min       -7.731092      0.000000  \n",
       "25%        0.000000      0.000000  \n",
       "50%        0.000000      0.000000  \n",
       "75%        0.010134      1.000000  \n",
       "max       14.857143      1.000000  "
      ]
     },
     "execution_count": 117,
     "metadata": {},
     "output_type": "execute_result"
    }
   ],
   "source": [
    "data.describe()"
   ]
  }
 ],
 "metadata": {
  "kernelspec": {
   "display_name": "Python 3.10.5 64-bit",
   "language": "python",
   "name": "python3"
  },
  "language_info": {
   "codemirror_mode": {
    "name": "ipython",
    "version": 3
   },
   "file_extension": ".py",
   "mimetype": "text/x-python",
   "name": "python",
   "nbconvert_exporter": "python",
   "pygments_lexer": "ipython3",
   "version": "3.10.5"
  },
  "orig_nbformat": 4,
  "vscode": {
   "interpreter": {
    "hash": "5f0a5c1feb56a19250d3a0db87c56a427628d7826be7aa8ed7d19e2b153a3057"
   }
  }
 },
 "nbformat": 4,
 "nbformat_minor": 2
}
