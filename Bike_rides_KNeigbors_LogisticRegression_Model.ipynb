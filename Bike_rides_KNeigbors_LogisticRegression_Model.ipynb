{
 "cells": [
  {
   "cell_type": "code",
   "execution_count": 9,
   "metadata": {},
   "outputs": [
    {
     "name": "stderr",
     "output_type": "stream",
     "text": [
      "C:\\Users\\iliak\\AppData\\Local\\Temp\\ipykernel_18136\\2606753632.py:20: SettingWithCopyWarning: \n",
      "A value is trying to be set on a copy of a slice from a DataFrame\n",
      "\n",
      "See the caveats in the documentation: https://pandas.pydata.org/pandas-docs/stable/user_guide/indexing.html#returning-a-view-versus-a-copy\n",
      "  data['power_scale'][i]=1\n",
      "C:\\Users\\iliak\\AppData\\Local\\Temp\\ipykernel_18136\\2606753632.py:16: SettingWithCopyWarning: \n",
      "A value is trying to be set on a copy of a slice from a DataFrame\n",
      "\n",
      "See the caveats in the documentation: https://pandas.pydata.org/pandas-docs/stable/user_guide/indexing.html#returning-a-view-versus-a-copy\n",
      "  data['power_scale'][i]=0\n"
     ]
    },
    {
     "data": {
      "text/plain": [
       "(0.7731114402718481, 0.7891435044001046)"
      ]
     },
     "execution_count": 9,
     "metadata": {},
     "output_type": "execute_result"
    }
   ],
   "source": [
    "# Step 1: Data loading and seperating features from target\n",
    "\n",
    "import numpy as np\n",
    "import pandas as pd\n",
    "import matplotlib.pyplot as plt\n",
    "data = pd.read_csv('c:/data/bike_rides.csv', sep = \",\")\n",
    "data['power_scale']=data['power']\n",
    "\n",
    "t = 250\n",
    "\n",
    "\n",
    "for i in range(len(data['power'])):\n",
    "    if data['power'][i]>t:\n",
    "\n",
    "\n",
    "          data['power_scale'][i]=0\n",
    "    \n",
    "    elif data['power'][i]<=t:\n",
    "\n",
    "         data['power_scale'][i]=1\n",
    "\n",
    "    \n",
    "features = data[['heart-rate', 'cadence', 'speed', 'acceleration', 'slope']]\n",
    "\n",
    "target=data['power_scale']\n",
    "\n",
    "\n",
    "# Step 2: data splitting in train and test datasets\n",
    "\n",
    "from sklearn.model_selection import train_test_split \n",
    "(X_train, X_test, y_train, y_test) = train_test_split(features, target, test_size=0.3, random_state=np.random.RandomState(seed=3))\n",
    "\n",
    "# Step 3 feature selection\n",
    "\n",
    "from sklearn.feature_selection import RFE\n",
    "from sklearn.tree import DecisionTreeClassifier\n",
    "estimator = DecisionTreeClassifier()\n",
    "selector=RFE(estimator, n_features_to_select=4, step=1)\n",
    "selector = selector.fit(X_train, y_train)\n",
    "selector.support_ \n",
    "selector.ranking_\n",
    "selector.score(X_test, y_test)\n",
    "features_selected = selector.get_feature_names_out()\n",
    "\n",
    "\n",
    "\n",
    "\n",
    "# Step 4: Model Training & Testing\n",
    "\n",
    "\n",
    "from sklearn.neighbors import KNeighborsClassifier\n",
    "\n",
    "X_train_selected=X_train[features_selected]\n",
    "X_test_selected=X_test[features_selected]\n",
    "\n",
    "estimator = KNeighborsClassifier(n_neighbors=5)\n",
    "model = estimator.fit(X_train_selected, y_train)\n",
    "\n",
    "\n",
    "\n",
    "\n",
    "selector.score(X_test, y_test), model.score(X_test_selected, y_test)\n",
    "\n",
    "\n",
    "\n",
    "\n"
   ]
  },
  {
   "cell_type": "code",
   "execution_count": 10,
   "metadata": {},
   "outputs": [
    {
     "data": {
      "text/plain": [
       "array([[0.8, 0.2],\n",
       "       [0.2, 0.8],\n",
       "       [0.2, 0.8],\n",
       "       ...,\n",
       "       [0. , 1. ],\n",
       "       [0. , 1. ],\n",
       "       [0. , 1. ]])"
      ]
     },
     "execution_count": 10,
     "metadata": {},
     "output_type": "execute_result"
    }
   ],
   "source": [
    "model.predict_proba(X_test_selected)"
   ]
  },
  {
   "cell_type": "code",
   "execution_count": 11,
   "metadata": {},
   "outputs": [
    {
     "data": {
      "text/plain": [
       "array([0., 1., 1., ..., 1., 1., 1.])"
      ]
     },
     "execution_count": 11,
     "metadata": {},
     "output_type": "execute_result"
    }
   ],
   "source": [
    "model.predict(X_test_selected)"
   ]
  },
  {
   "cell_type": "code",
   "execution_count": 12,
   "metadata": {},
   "outputs": [
    {
     "data": {
      "text/plain": [
       "array(['heart-rate', 'speed', 'acceleration', 'slope'], dtype=object)"
      ]
     },
     "execution_count": 12,
     "metadata": {},
     "output_type": "execute_result"
    }
   ],
   "source": [
    "features_selected = selector.get_feature_names_out()\n",
    "features_selected"
   ]
  }
 ],
 "metadata": {
  "kernelspec": {
   "display_name": "Python 3.10.5 64-bit",
   "language": "python",
   "name": "python3"
  },
  "language_info": {
   "codemirror_mode": {
    "name": "ipython",
    "version": 3
   },
   "file_extension": ".py",
   "mimetype": "text/x-python",
   "name": "python",
   "nbconvert_exporter": "python",
   "pygments_lexer": "ipython3",
   "version": "3.10.5"
  },
  "orig_nbformat": 4,
  "vscode": {
   "interpreter": {
    "hash": "5f0a5c1feb56a19250d3a0db87c56a427628d7826be7aa8ed7d19e2b153a3057"
   }
  }
 },
 "nbformat": 4,
 "nbformat_minor": 2
}
